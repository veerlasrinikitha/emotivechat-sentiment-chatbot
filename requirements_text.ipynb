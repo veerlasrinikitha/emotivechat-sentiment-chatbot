{
  "nbformat": 4,
  "nbformat_minor": 0,
  "metadata": {
    "colab": {
      "provenance": []
    },
    "kernelspec": {
      "name": "python3",
      "display_name": "Python 3"
    },
    "language_info": {
      "name": "python"
    }
  },
  "cells": [
    {
      "cell_type": "code",
      "execution_count": 1,
      "metadata": {
        "colab": {
          "base_uri": "https://localhost:8080/"
        },
        "id": "oiq4gCOGZAnG",
        "outputId": "982cfbac-dec5-467d-fef4-72aab3c83a88"
      },
      "outputs": [
        {
          "output_type": "stream",
          "name": "stdout",
          "text": [
            "Writing requirements.txt\n"
          ]
        }
      ],
      "source": [
        "\n",
        "%%writefile requirements.txt\n",
        "numpy\n",
        "pandas\n",
        "scikit-learn\n",
        "nltk\n",
        "spacy\n",
        "tensorflow\n",
        "keras\n",
        "matplotlib\n",
        "seaborn\n",
        "emoji\n",
        "\n"
      ]
    }
  ]
}